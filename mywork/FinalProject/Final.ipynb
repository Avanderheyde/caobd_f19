{
 "cells": [
  {
   "cell_type": "code",
   "execution_count": 1,
   "metadata": {},
   "outputs": [],
   "source": [
    "import pandas as pd\n",
    "import sqlite3\n",
    "import sqlalchemy as db\n",
    "#import matplotlib as plt\n",
    "from sqlalchemy.orm import Session\n",
    "import matplotlib.pyplot as plt\n",
    "import numpy as np\n",
    "\n",
    "\n",
    "%matplotlib inline"
   ]
  },
  {
   "cell_type": "code",
   "execution_count": 2,
   "metadata": {},
   "outputs": [],
   "source": [
    "engine = db.create_engine('sqlite:///flights.sqlite3', echo=True)"
   ]
  },
  {
   "cell_type": "code",
   "execution_count": 3,
   "metadata": {},
   "outputs": [
    {
     "name": "stdout",
     "output_type": "stream",
     "text": [
      "2019-11-26 13:55:34,864 INFO sqlalchemy.engine.base.Engine SELECT CAST('test plain returns' AS VARCHAR(60)) AS anon_1\n",
      "2019-11-26 13:55:34,866 INFO sqlalchemy.engine.base.Engine ()\n",
      "2019-11-26 13:55:34,871 INFO sqlalchemy.engine.base.Engine SELECT CAST('test unicode returns' AS VARCHAR(60)) AS anon_1\n",
      "2019-11-26 13:55:34,872 INFO sqlalchemy.engine.base.Engine ()\n",
      "2019-11-26 13:55:34,875 INFO sqlalchemy.engine.base.Engine PRAGMA table_info(\"ontime\")\n",
      "2019-11-26 13:55:34,876 INFO sqlalchemy.engine.base.Engine ()\n",
      "2019-11-26 13:55:34,880 INFO sqlalchemy.engine.base.Engine SELECT sql FROM  (SELECT * FROM sqlite_master UNION ALL   SELECT * FROM sqlite_temp_master) WHERE name = 'ontime' AND type = 'table'\n",
      "2019-11-26 13:55:34,881 INFO sqlalchemy.engine.base.Engine ()\n",
      "2019-11-26 13:55:34,883 INFO sqlalchemy.engine.base.Engine PRAGMA foreign_key_list(\"ontime\")\n",
      "2019-11-26 13:55:34,887 INFO sqlalchemy.engine.base.Engine ()\n",
      "2019-11-26 13:55:34,888 INFO sqlalchemy.engine.base.Engine SELECT sql FROM  (SELECT * FROM sqlite_master UNION ALL   SELECT * FROM sqlite_temp_master) WHERE name = 'ontime' AND type = 'table'\n",
      "2019-11-26 13:55:34,888 INFO sqlalchemy.engine.base.Engine ()\n",
      "2019-11-26 13:55:34,891 INFO sqlalchemy.engine.base.Engine PRAGMA index_list(\"ontime\")\n",
      "2019-11-26 13:55:34,892 INFO sqlalchemy.engine.base.Engine ()\n",
      "2019-11-26 13:55:34,894 INFO sqlalchemy.engine.base.Engine PRAGMA index_info(\"dest\")\n",
      "2019-11-26 13:55:34,895 INFO sqlalchemy.engine.base.Engine ()\n",
      "2019-11-26 13:55:34,897 INFO sqlalchemy.engine.base.Engine PRAGMA index_info(\"origin\")\n",
      "2019-11-26 13:55:34,900 INFO sqlalchemy.engine.base.Engine ()\n",
      "2019-11-26 13:55:34,903 INFO sqlalchemy.engine.base.Engine PRAGMA index_info(\"date\")\n",
      "2019-11-26 13:55:34,905 INFO sqlalchemy.engine.base.Engine ()\n",
      "2019-11-26 13:55:34,907 INFO sqlalchemy.engine.base.Engine PRAGMA index_info(\"year\")\n",
      "2019-11-26 13:55:34,908 INFO sqlalchemy.engine.base.Engine ()\n",
      "2019-11-26 13:55:34,910 INFO sqlalchemy.engine.base.Engine PRAGMA index_list(\"ontime\")\n",
      "2019-11-26 13:55:34,911 INFO sqlalchemy.engine.base.Engine ()\n",
      "2019-11-26 13:55:34,913 INFO sqlalchemy.engine.base.Engine PRAGMA index_info(\"dest\")\n",
      "2019-11-26 13:55:34,914 INFO sqlalchemy.engine.base.Engine ()\n",
      "2019-11-26 13:55:34,916 INFO sqlalchemy.engine.base.Engine PRAGMA index_info(\"origin\")\n",
      "2019-11-26 13:55:34,917 INFO sqlalchemy.engine.base.Engine ()\n",
      "2019-11-26 13:55:34,919 INFO sqlalchemy.engine.base.Engine PRAGMA index_info(\"date\")\n",
      "2019-11-26 13:55:34,921 INFO sqlalchemy.engine.base.Engine ()\n",
      "2019-11-26 13:55:34,923 INFO sqlalchemy.engine.base.Engine PRAGMA index_info(\"year\")\n",
      "2019-11-26 13:55:34,924 INFO sqlalchemy.engine.base.Engine ()\n",
      "2019-11-26 13:55:34,926 INFO sqlalchemy.engine.base.Engine SELECT sql FROM  (SELECT * FROM sqlite_master UNION ALL   SELECT * FROM sqlite_temp_master) WHERE name = 'ontime' AND type = 'table'\n",
      "2019-11-26 13:55:34,927 INFO sqlalchemy.engine.base.Engine ()\n"
     ]
    }
   ],
   "source": [
    "#use db.execute(<SQL query command>) to query database\n",
    "\n",
    "connection = engine.connect()\n",
    "flights = db.Table('ontime', db.MetaData(), autoload=True, autoload_with=engine)\n",
    "session = Session(bind=engine)"
   ]
  },
  {
   "cell_type": "code",
   "execution_count": 4,
   "metadata": {
    "scrolled": true
   },
   "outputs": [
    {
     "data": {
      "text/plain": [
       "['Year',\n",
       " 'Month',\n",
       " 'DayofMonth',\n",
       " 'DayOfWeek',\n",
       " 'DepTime',\n",
       " 'CRSDepTime',\n",
       " 'ArrTime',\n",
       " 'CRSArrTime',\n",
       " 'UniqueCarrier',\n",
       " 'FlightNum',\n",
       " 'TailNum',\n",
       " 'ActualElapsedTime',\n",
       " 'CRSElapsedTime',\n",
       " 'AirTime',\n",
       " 'ArrDelay',\n",
       " 'DepDelay',\n",
       " 'Origin',\n",
       " 'Dest',\n",
       " 'Distance',\n",
       " 'TaxiIn',\n",
       " 'TaxiOut',\n",
       " 'Cancelled',\n",
       " 'CancellationCode',\n",
       " 'Diverted',\n",
       " 'CarrierDelay',\n",
       " 'WeatherDelay',\n",
       " 'NASDelay',\n",
       " 'SecurityDelay',\n",
       " 'LateAircraftDelay']"
      ]
     },
     "execution_count": 4,
     "metadata": {},
     "output_type": "execute_result"
    }
   ],
   "source": [
    "flights.columns.keys()"
   ]
  },
  {
   "cell_type": "code",
   "execution_count": 5,
   "metadata": {},
   "outputs": [],
   "source": [
    "# flights.columns.keys()\n",
    "q = session.query(flights.columns.Origin)"
   ]
  },
  {
   "cell_type": "code",
   "execution_count": 6,
   "metadata": {},
   "outputs": [
    {
     "name": "stdout",
     "output_type": "stream",
     "text": [
      "2019-11-26 13:55:34,957 INFO sqlalchemy.engine.base.Engine BEGIN (implicit)\n",
      "2019-11-26 13:55:34,958 INFO sqlalchemy.engine.base.Engine SELECT ontime.\"Origin\" AS \"ontime_Origin\" \n",
      "FROM ontime\n",
      "2019-11-26 13:55:34,959 INFO sqlalchemy.engine.base.Engine ()\n"
     ]
    }
   ],
   "source": [
    "from collections import Counter\n",
    "total = Counter(q.all())"
   ]
  },
  {
   "cell_type": "code",
   "execution_count": 39,
   "metadata": {},
   "outputs": [
    {
     "name": "stdout",
     "output_type": "stream",
     "text": [
      "[(('ATL',), 3206135), (('ORD',), 3145926), (('DFW',), 2705128), (('LAX',), 1993952), (('PHX',), 1687348), (('IAH',), 1588183), (('DEN',), 1584892), (('LAS',), 1414631), (('DTW',), 1333414), (('MSP',), 1273128), (('EWR',), 1262541), (('SFO',), 1148292), (('BOS',), 1108979), (('SLC',), 1080683), (('CLT',), 1065916), (('LGA',), 1045475), (('CVG',), 1039371), (('PHL',), 1018360), (('MCO',), 980676), (('SEA',), 954592), (('BWI',), 911055), (('STL',), 884414), (('IAD',), 786380), (('DCA',), 786143), (('JFK',), 780953), (('SAN',), 771531), (('MDW',), 711427), (('CLE',), 656690), (('TPA',), 647451), (('PIT',), 612674), (('OAK',), 602176), (('MIA',), 591729), (('SJC',), 567663), (('FLL',), 554483), (('MCI',), 534990), (('MEM',), 518620), (('BNA',), 517956), (('HOU',), 511697), (('PDX',), 503711), (('RDU',), 482575), (('DAL',), 429985), (('SMF',), 429579), (('SNA',), 424352), (('MSY',), 404275), (('AUS',), 393137), (('SAT',), 363951), (('IND',), 356561), (('ABQ',), 339203), (('HNL',), 336683), (('CMH',), 331093), (('ONT',), 325224), (('BDL',), 306076), (('JAX',), 261800), (('BUR',), 258780), (('PVD',), 247042), (('RNO',), 244911), (('PBI',), 237198), (('SJU',), 222426), (('BUF',), 212361), (('MKE',), 207170), (('OKC',), 202618), (('TUL',), 198471), (('OMA',), 196364), (('RSW',), 195006), (('ELP',), 194861), (('SDF',), 193753), (('TUS',), 191504), (('BHM',), 186249), (('ANC',), 184440), (('ORF',), 178155), (('MHT',), 174176), (('RIC',), 161031), (('LIT',), 145159), (('ROC',), 141038), (('ALB',), 140633), (('BOI',), 135378), (('GSO',), 134780), (('OGG',), 128234), (('GEG',), 126198), (('GRR',), 123683), (('COS',), 121885), (('DAY',), 119090), (('SYR',), 111842), (('DSM',), 103500), (('ISP',), 101154), (('CHS',), 99414), (('GSP',), 95875), (('JAN',), 95582), (('SAV',), 95231), (('FAT',), 93429), (('TYS',), 92828), (('ICT',), 92774), (('PSP',), 92222), (('XNA',), 88731), (('SBA',), 88317), (('LGB',), 85445), (('MSN',), 83175), (('LBB',), 76848), (('PWM',), 76301), (('CAE',), 76187), (('HSV',), 73748), (('HPN',), 71738), (('LIH',), 71401), (('MDT',), 70412), (('PNS',), 69880), (('KOA',), 69212), (('BTR',), 69131), (('MAF',), 67282), (('AMA',), 65566), (('CID',), 65379), (('LEX',), 64646), (('SHV',), 63950), (('SGF',), 61127), (('CRP',), 60268), (('BTV',), 55413), (('CAK',), 53992), (('GRB',), 52838), (('SRQ',), 52042), (('MRY',), 50977), (('MYR',), 47979), (('FAI',), 47013), (('HRL',), 46149), (('ABE',), 45072), (('FNT',), 44541), (('VPS',), 44065), (('GPT',), 43357), (('FWA',), 42378), (('MOB',), 42291), (('MLI',), 41687), (('SBP',), 41613), (('FSD',), 40656), (('JNU',), 40543), (('EUG',), 38827), (('BIL',), 38241), (('MFR',), 36397), (('LAN',), 36236), (('ITO',), 35516), (('PHF',), 34748), (('EVV',), 34574), (('BZN',), 34024), (('MFE',), 33388), (('FAR',), 33109), (('TLH',), 32843), (('BGR',), 32528), (('AZO',), 31978), (('CHA',), 31561), (('PIA',), 31436), (('LFT',), 30531), (('RAP',), 30321), (('MBS',), 29392), (('MSO',), 29116), (('CRW',), 28989), (('ROA',), 28053), (('STT',), 27922), (('AVL',), 27831), (('ILM',), 27685), (('TOL',), 27416), (('SBN',), 27313), (('BFL',), 27240), (('TVC',), 26269), (('DAB',), 26248), (('GJT',), 26228), (('GTF',), 25924), (('JAC',), 25048), (('RST',), 23779), (('ACV',), 23420), (('BMI',), 23102), (('MGM',), 22903), (('SWF',), 22705), (('ATW',), 22444), (('KTN',), 22128), (('FCA',), 22118), (('GRK',), 21952), (('PSC',), 21741), (('ABI',), 21711), (('CMI',), 21293), (('ACT',), 21081), (('MLU',), 21034), (('TYR',), 20739), (('LNK',), 20363), (('CLL',), 20074), (('MLB',), 19387), (('SGU',), 19294), (('PFN',), 19279), (('FSM',), 19274), (('AGS',), 19141), (('RDM',), 19123), (('IDA',), 18907), (('AVP',), 18827), (('BIS',), 18767), (('CPR',), 18732), (('SUN',), 18512), (('LAW',), 18019), (('LRD',), 17996), (('SPS',), 17583), (('AEX',), 17245), (('TRI',), 17110), (('EGE',), 16751), (('SJT',), 16590), (('MTJ',), 15962), (('LSE',), 15085), (('DRO',), 14915), (('YUM',), 14615), (('ASE',), 14345), (('CLD',), 14242), (('HLN',), 14190), (('DLH',), 14078), (('ILE',), 13827), (('FAY',), 12923), (('GNV',), 12873), (('EKO',), 12808), (('TWF',), 12352), (('CHO',), 11989), (('SIT',), 11978), (('MOD',), 11942), (('HDN',), 11906), (('RDD',), 11755), (('TXK',), 11740), (('SMX',), 11586), (('BRO',), 11260), (('PIH',), 10989), (('DHN',), 10571), (('CSG',), 10347), (('BET',), 10265), (('DBQ',), 10221), (('EYW',), 9857), (('GGG',), 9782), (('MOT',), 9770), (('OME',), 9517), (('OXR',), 9484), (('OTZ',), 9382), (('ERI',), 8776), (('GFK',), 8623), (('BPT',), 8452), (('ABY',), 8035), (('LCH',), 8025), (('GTR',), 7520), (('VLD',), 7300), (('BGM',), 7291), (('CIC',), 7281), (('MCN',), 7203), (('BQK',), 6934), (('BRW',), 6814), (('COD',), 6638), (('SCE',), 6574), (('PSG',), 6539), (('WRG',), 6538), (('YAK',), 6537), (('CDV',), 6536), (('BTM',), 6499), (('CEC',), 6350), (('BQN',), 6310), (('ADQ',), 6297), (('MEI',), 6269), (('IYK',), 6111), (('MQT',), 5763), (('CWA',), 5746), (('LYH',), 5690), (('IPL',), 5659), (('FLG',), 5511), (('PIE',), 5258), (('STX',), 5191), (('FLO',), 5062), (('SPI',), 5020), (('ELM',), 4913), (('GUC',), 4766), (('HTS',), 4643), (('SCC',), 4430), (('ACY',), 3882), (('CDC',), 3856), (('APF',), 2892), (('AKN',), 2761), (('DUT',), 2752), (('LWS',), 2752), (('EFD',), 2649), (('PSE',), 2531), (('ITH',), 2505), (('VCT',), 2445), (('OAJ',), 2380), (('DLG',), 2153), (('VIS',), 1993), (('TUP',), 1971), (('HHH',), 1833), (('HVN',), 1682), (('ACK',), 1668), (('WYS',), 1632), (('SUX',), 1622), (('RFD',), 1560), (('ISO',), 1411), (('EWN',), 1392), (('ORH',), 1281), (('LWB',), 1266), (('ROW',), 1196), (('PMD',), 1120), (('BLI',), 1117), (('GCC',), 1046), (('RKS',), 954), (('SLE',), 884), (('TTN',), 859), (('GST',), 804), (('PLN',), 776), (('ILG',), 765), (('YKM',), 750), (('TEX',), 683), (('HKY',), 648), (('CMX',), 627), (('ALO',), 623), (('ADK',), 589), (('OTH',), 515), (('LMT',), 511), (('RHI',), 444), (('MKG',), 396), (('SOP',), 319), (('INL',), 290), (('LNY',), 289), (('MKK',), 288), (('BJI',), 202), (('MAZ',), 149), (('MTH',), 128), (('MIB',), 89), (('EAU',), 72), (('RDR',), 46), (('PIR',), 9), (('CKB',), 8), (('OGD',), 6), (('PUB',), 5), (('FMN',), 3), (('CYS',), 2), (('GLH',), 2), (('PVU',), 2), (('BFF',), 1), (('MKC',), 1)]\n"
     ]
    }
   ],
   "source": [
    "total\n",
    "\n",
    "c3 = dict(total)\n",
    "c4 = sorted(c3.items(), key=lambda pair: pair[1], reverse=True)\n",
    "\n",
    "print(c4)"
   ]
  },
  {
   "cell_type": "code",
   "execution_count": 7,
   "metadata": {},
   "outputs": [],
   "source": [
    "#newtotal = dict(total)\n",
    "#print(newtotal['ABE'])\n",
    "#newtotal"
   ]
  },
  {
   "cell_type": "code",
   "execution_count": 8,
   "metadata": {},
   "outputs": [],
   "source": [
    "q2 = q.filter(flights.columns.ArrDelay.cast(db.Integer) >= 60)"
   ]
  },
  {
   "cell_type": "code",
   "execution_count": 9,
   "metadata": {},
   "outputs": [],
   "source": [
    "q3 = q.filter(flights.columns.ArrDelay.cast(db.Integer) >= 180)"
   ]
  },
  {
   "cell_type": "code",
   "execution_count": 10,
   "metadata": {},
   "outputs": [],
   "source": [
    "q4 = q.filter(flights.columns.ArrDelay.cast(db.Integer) >= 300)"
   ]
  },
  {
   "cell_type": "code",
   "execution_count": 11,
   "metadata": {},
   "outputs": [
    {
     "name": "stdout",
     "output_type": "stream",
     "text": [
      "2019-11-26 14:10:24,064 INFO sqlalchemy.engine.base.Engine SELECT ontime.\"Origin\" AS \"ontime_Origin\" \n",
      "FROM ontime \n",
      "WHERE CAST(ontime.\"ArrDelay\" AS INTEGER) >= ?\n",
      "2019-11-26 14:10:24,067 INFO sqlalchemy.engine.base.Engine (60,)\n"
     ]
    }
   ],
   "source": [
    "# for >= 60 min delay\n",
    "airlineCities = q2.all()"
   ]
  },
  {
   "cell_type": "code",
   "execution_count": 13,
   "metadata": {},
   "outputs": [],
   "source": [
    "counter = Counter(airlineCities)\n",
    "pDict = {}\n",
    "for airline in total.keys():\n",
    "    if(total[airline] >= 50000):\n",
    "        pDict[airline] = counter[airline]/total[airline]"
   ]
  },
  {
   "cell_type": "code",
   "execution_count": 14,
   "metadata": {},
   "outputs": [
    {
     "data": {
      "text/plain": [
       "[(('ORD'), 0.09112007084718458),\n",
       " (('EWR'), 0.08826564840270534),\n",
       " (('JFK'), 0.08600005378044517),\n",
       " (('HPN'), 0.08228553904485768),\n",
       " (('PHL'), 0.08206233551985545),\n",
       " (('BTV'), 0.08052262104560302),\n",
       " (('PWM'), 0.07590988322564579),\n",
       " (('CAE'), 0.07524905823828212),\n",
       " (('XNA'), 0.07447228138981866),\n",
       " (('LGA'), 0.07322317606829432),\n",
       " (('IAD'), 0.07230728146697525),\n",
       " (('CAK'), 0.07214031708401245),\n",
       " (('MIA'), 0.07187580801346562),\n",
       " (('ROC'), 0.07158354486025043)]"
      ]
     },
     "execution_count": 14,
     "metadata": {},
     "output_type": "execute_result"
    }
   ],
   "source": [
    "# get 14 most common because there were 4 non-international airports\n",
    "Counter(pDict).most_common(14)"
   ]
  },
  {
   "cell_type": "code",
   "execution_count": 15,
   "metadata": {},
   "outputs": [
    {
     "data": {
      "image/png": "[encoded data removed]",
      "text/plain": [
       "<Figure size 432x288 with 1 Axes>"
      ]
     },
     "metadata": {
      "needs_background": "light"
     },
     "output_type": "display_data"
    },
    {
     "name": "stdout",
     "output_type": "stream",
     "text": [
      " ORD = O'Hare International \n",
      " EWR = Newark Liberty International \n",
      " JFK = JFK International \n",
      " PHL = Philadelphia International \n",
      " BTV = Burlington International \n",
      " PWM = Portland International Jetport\n",
      " LGA = Laguardia \n",
      " IAD = Dulles International \n",
      " MIA = Miami International \n",
      " ROC = Greater Rochester International\n"
     ]
    }
   ],
   "source": [
    "# graph for delays >= 60 mins\n",
    "objects = ('ORD', 'EWR', 'JFK','PHL','BTV','PWM','LGA','IAD', 'MIA','ROC')\n",
    "y_pos = np.arange(len(objects))\n",
    "performance = [9.112,8.826,8.6,8.206,8.052,7.591,7.322,7.23,7.187,7.158]\n",
    "\n",
    "\n",
    "plt.bar(y_pos, performance, align='center', alpha=0.5, color = 'g')\n",
    "plt.xticks(y_pos, objects)\n",
    "plt.ylabel('% of flights')\n",
    "plt.title('Flights Delayed an Hour or More')\n",
    "\n",
    "plt.show()\n",
    "\n",
    "print(\"\"\" ORD = O'Hare International \\n EWR = Newark Liberty International \\n JFK = JFK International \n",
    " PHL = Philadelphia International \\n BTV = Burlington International \\n PWM = Portland International Jetport\n",
    " LGA = Laguardia \\n IAD = Dulles International \\n MIA = Miami International \\n ROC = Greater Rochester International\"\"\")"
   ]
  },
  {
   "cell_type": "code",
   "execution_count": 16,
   "metadata": {},
   "outputs": [
    {
     "name": "stdout",
     "output_type": "stream",
     "text": [
      "2019-11-26 14:14:48,885 INFO sqlalchemy.engine.base.Engine SELECT ontime.\"Origin\" AS \"ontime_Origin\" \n",
      "FROM ontime \n",
      "WHERE CAST(ontime.\"ArrDelay\" AS INTEGER) >= ?\n",
      "2019-11-26 14:14:48,887 INFO sqlalchemy.engine.base.Engine (180,)\n"
     ]
    }
   ],
   "source": [
    "# for >= 180 min delay\n",
    "airlineCities3 = q3.all()"
   ]
  },
  {
   "cell_type": "code",
   "execution_count": 17,
   "metadata": {},
   "outputs": [],
   "source": [
    "counter3 = Counter(airlineCities3)\n",
    "pDict3 = {}\n",
    "for airline in total.keys():\n",
    "    if(total[airline] > 50000):\n",
    "        pDict3[airline] = counter3[airline]/total[airline]"
   ]
  },
  {
   "cell_type": "code",
   "execution_count": 18,
   "metadata": {},
   "outputs": [
    {
     "data": {
      "text/plain": [
       "[(('SGF'), 0.012923912510020123),\n",
       " (('BTV'), 0.012812877844549113),\n",
       " (('JFK'), 0.01254108761986957),\n",
       " (('HPN'), 0.012350497644205302),\n",
       " (('PWM'), 0.011703647396495459),\n",
       " (('EWR'), 0.011648730615481002),\n",
       " (('CAE'), 0.011432396603095016),\n",
       " (('XNA'), 0.011270018370129944),\n",
       " (('BTR'), 0.011022551387944626),\n",
       " (('ROC'), 0.010755966477119641),\n",
       " (('PHL'), 0.010379433599120153),\n",
       " (('IAD'), 0.010163025509295761),\n",
       " (('CAK'), 0.010020002963401985),\n",
       " (('LEX'), 0.009884602295579),\n",
       " (('ORD'), 0.009775817994447421),\n",
       " (('MSN'), 0.009738503155996394),\n",
       " (('MDT'), 0.009543827756632392),\n",
       " (('GRB'), 0.009462886558915931),\n",
       " (('BUF'), 0.009375544473796979),\n",
       " (('DSM'), 0.009111111111111111)]"
      ]
     },
     "execution_count": 18,
     "metadata": {},
     "output_type": "execute_result"
    }
   ],
   "source": [
    "# checking the top 20 to get the top 10 international\n",
    "Counter(pDict3).most_common(20)"
   ]
  },
  {
   "cell_type": "code",
   "execution_count": 19,
   "metadata": {},
   "outputs": [
    {
     "data": {
      "image/png": "[encoded data removed]",
      "text/plain": [
       "<Figure size 432x288 with 1 Axes>"
      ]
     },
     "metadata": {
      "needs_background": "light"
     },
     "output_type": "display_data"
    },
    {
     "name": "stdout",
     "output_type": "stream",
     "text": [
      " BTV = Burlington International \n",
      " JFK = JFK International \n",
      " PWM = Portland International Jetport\n",
      " EWR = Newark Liberty International \n",
      " ROC = Greater Rochester International \n",
      " PHL = Philadelphia International\n",
      " IAD = Dulles International \n",
      " ORD = O'Hare International \n",
      " MDT = Harrisburg International \n",
      " GRB = Green Bay Austin Straubel International\n"
     ]
    }
   ],
   "source": [
    "# graph for delays >= 180 mins\n",
    "objects = ('BTV','JFK','PWM','EWR','ROC','PHL','IAD','ORD','MDT','GRB')\n",
    "y_pos = np.arange(len(objects))\n",
    "performance = [1.281,1.254,1.17,1.165,1.076,1.038,1.0163,.978,.954,.946]\n",
    "\n",
    "\n",
    "plt.bar(y_pos, performance, align='center', alpha=0.5, color = 'y')\n",
    "plt.xticks(y_pos, objects)\n",
    "plt.ylabel('% of flights')\n",
    "plt.title('Flights Delayed 3 or More Hours')\n",
    "\n",
    "plt.show()\n",
    "\n",
    "print(\"\"\" BTV = Burlington International \\n JFK = JFK International \\n PWM = Portland International Jetport\n",
    " EWR = Newark Liberty International \\n ROC = Greater Rochester International \\n PHL = Philadelphia International\n",
    " IAD = Dulles International \\n ORD = O'Hare International \\n MDT = Harrisburg International \n",
    " GRB = Green Bay Austin Straubel International\"\"\")"
   ]
  },
  {
   "cell_type": "code",
   "execution_count": 20,
   "metadata": {},
   "outputs": [
    {
     "name": "stdout",
     "output_type": "stream",
     "text": [
      "2019-11-26 14:15:22,263 INFO sqlalchemy.engine.base.Engine SELECT ontime.\"Origin\" AS \"ontime_Origin\" \n",
      "FROM ontime \n",
      "WHERE CAST(ontime.\"ArrDelay\" AS INTEGER) >= ?\n",
      "2019-11-26 14:15:22,267 INFO sqlalchemy.engine.base.Engine (300,)\n"
     ]
    }
   ],
   "source": [
    "# for >= 300 min delay\n",
    "airlineCities2 = q4.all()"
   ]
  },
  {
   "cell_type": "code",
   "execution_count": 21,
   "metadata": {},
   "outputs": [],
   "source": [
    "counter2 = Counter(airlineCities2)\n",
    "pDict2 = {}\n",
    "for airline in total.keys():\n",
    "    if(total[airline] > 50000):\n",
    "        pDict2[airline] = counter2[airline]/total[airline]"
   ]
  },
  {
   "cell_type": "code",
   "execution_count": 22,
   "metadata": {},
   "outputs": [
    {
     "data": {
      "text/plain": [
       "[(('SGF'), 0.004384314623652396),\n",
       " (('BTR'), 0.003703114377052263),\n",
       " (('BTV'), 0.003049825853139155),\n",
       " (('PWM'), 0.0027391515183287246),\n",
       " (('XNA'), 0.002716074427201316),\n",
       " (('HPN'), 0.002439432378934456),\n",
       " (('CAE'), 0.0024151101894023916),\n",
       " (('ROC'), 0.0023965172506700324),\n",
       " (('JFK'), 0.0023407298518604834),\n",
       " (('SJU'), 0.0022659221493890104),\n",
       " (('DSM'), 0.0021642512077294685),\n",
       " (('LEX'), 0.002150171704359125),\n",
       " (('MSN'), 0.0021039975954313195),\n",
       " (('BUF'), 0.0020954883429631617),\n",
       " (('MDT'), 0.002087712321763336),\n",
       " (('TYS'), 0.0020791140604128067),\n",
       " (('GRR'), 0.00202938156415999),\n",
       " (('ICT'), 0.0020264298186992045),\n",
       " (('SYR'), 0.0020207077841955614),\n",
       " (('CID'), 0.0019731106318542652)]"
      ]
     },
     "execution_count": 22,
     "metadata": {},
     "output_type": "execute_result"
    }
   ],
   "source": [
    "# checking the top 20 to get the top 10 international\n",
    "Counter(pDict2).most_common(20)"
   ]
  },
  {
   "cell_type": "code",
   "execution_count": 23,
   "metadata": {},
   "outputs": [
    {
     "data": {
      "image/png": "[encoded data removed]",
      "text/plain": [
       "<Figure size 432x288 with 1 Axes>"
      ]
     },
     "metadata": {
      "needs_background": "light"
     },
     "output_type": "display_data"
    },
    {
     "name": "stdout",
     "output_type": "stream",
     "text": [
      " BTV = Burlington International \n",
      " PWM = Portland International Jetport \n",
      " ROC = Greater Rochester International\n",
      " JFK = JFK International \n",
      " SJU = Luis Muñoz Marin International \n",
      " DSM = Des Moines International\n",
      " BUF = Buffalo Niagara International \n",
      " MDT = Harrisburg International \n",
      " GRR = Gerald R. Ford International\n",
      " SYR = Syracuse Hancock International \n"
     ]
    }
   ],
   "source": [
    "# graph for delays >= 300 mins\n",
    "objects = ('BTV','PWM','ROC','JFK','SJU','DSM','BUF','MDT','GRR','SYR')\n",
    "y_pos = np.arange(len(objects))\n",
    "performance = [.304,.274,.239,.234,.227,.216,.209,.208,.202,.202]\n",
    "\n",
    "\n",
    "plt.bar(y_pos, performance, align='center', alpha=0.5, color = 'r')\n",
    "plt.xticks(y_pos, objects)\n",
    "plt.ylabel('% of flights')\n",
    "plt.title('Flights Delayed 5 or More Hours')\n",
    "\n",
    "plt.show()\n",
    "\n",
    "print(\"\"\" BTV = Burlington International \\n PWM = Portland International Jetport \\n ROC = Greater Rochester International\n",
    " JFK = JFK International \\n SJU = Luis Muñoz Marin International \\n DSM = Des Moines International\n",
    " BUF = Buffalo Niagara International \\n MDT = Harrisburg International \\n GRR = Gerald R. Ford International\n",
    " SYR = Syracuse Hancock International \"\"\")"
   ]
  }
 ],
 "metadata": {
  "kernelspec": {
   "display_name": "Python 3",
   "language": "python",
   "name": "python3"
  },
  "language_info": {
   "codemirror_mode": {
    "name": "ipython",
    "version": 3
   },
   "file_extension": ".py",
   "mimetype": "text/x-python",
   "name": "python",
   "nbconvert_exporter": "python",
   "pygments_lexer": "ipython3",
   "version": "3.7.3"
  }
 },
 "nbformat": 4,
 "nbformat_minor": 2
}
