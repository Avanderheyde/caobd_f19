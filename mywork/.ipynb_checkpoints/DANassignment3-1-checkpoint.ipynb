{
 "cells": [
  {
   "cell_type": "markdown",
   "metadata": {},
   "source": [
    "> **DO NOT EDIT IF INSIDE `caobd_s19` folder** "
   ]
  },
  {
   "cell_type": "markdown",
   "metadata": {},
   "source": [
    "# Assignment 3"
   ]
  },
  {
   "cell_type": "markdown",
   "metadata": {},
   "source": [
    "**Handin in Peergrade**: *Wednesday*, November 13, 2019, 23:59<br>\n",
    "**Peergrading deadline**: *Sunday*, November 17, 2019, 23:59<br>\n",
    "**Peergrading feedback deadline**: *Tuesday*, November 19, 2019, 23:59"
   ]
  },
  {
   "cell_type": "markdown",
   "metadata": {},
   "source": [
    "[**Feedback**](http://ulfaslak.com/vent)"
   ]
  },
  {
   "cell_type": "markdown",
   "metadata": {},
   "source": [
    "## Problems"
   ]
  },
  {
   "cell_type": "markdown",
   "metadata": {},
   "source": [
    "### Week 7"
   ]
  },
  {
   "cell_type": "markdown",
   "metadata": {},
   "source": [
    ">**Ex. 7.2.1**: Compute the sentiment score of each character's page and produce three histograms of sentiment scores, one for each faction. You can use the text strings you generated in the previous exercise. We will cheat a bit and use a library that does the scoring for us. Install `afinn` using `conda` or `pip` and extract the sentiment with that module. There's an example of how to use it on the library's [PyPi repository](https://pypi.python.org/pypi/afinn)."
   ]
  },
  {
   "cell_type": "markdown",
   "metadata": {
    "ExecuteTime": {
     "end_time": "2017-08-23T14:01:10.834257Z",
     "start_time": "2017-08-23T14:01:10.826472Z"
    }
   },
   "source": [
    ">**Ex. 7.4.1**: Use any tool you like (you can do it manually, it's straight forward if you understand the method), to perform a TF-IDF transform on your BoW matrix from Ex. 7.3.1. The result should be a matrix of the same shape as the BoW, but with different values inside.\n",
    "1. Explain what these values mean.\n",
    "2. For the top three most written about characters in each class (so 9 in total), print out each of their 10 highest scoring words. Comment on any differences you observe in the type of words being used in different classes."
   ]
  },
  {
   "cell_type": "markdown",
   "metadata": {},
   "source": [
    "### Week 8"
   ]
  },
  {
   "cell_type": "markdown",
   "metadata": {
    "ExecuteTime": {
     "end_time": "2017-08-23T14:01:10.834257Z",
     "start_time": "2017-08-23T14:01:10.826472Z"
    }
   },
   "source": [
    ">**Ex. 8.2.1**: Modify the script from Ex. 8.1.1 so that it instead of word counts outputs the number of characters, words and lines in the file. Post as your answer in two seperate cells, (1) the code in the script in a code cell, and (2) the terminal output in a markdown cell with the text indented by one tab."
   ]
  },
  {
   "cell_type": "code",
   "execution_count": 3,
   "metadata": {},
   "outputs": [],
   "source": [
    "from mrjob.job import MRJob\n",
    "# number of characters, words and lines \n",
    "class MRWordCounter(MRJob):\n",
    "    def mapper(self, _, line):\n",
    "        yield \"chars:\", len(line)\n",
    "        yield \"words:\", len(line.split())\n",
    "        yield \"lines:\", 1\n",
    "                \n",
    "    def reducer(self, key, vals):\n",
    "        yield key, sum(vals)\n",
    "            \n",
    "\n",
    "#if __name__ == '__main__':\n",
    "#    MRWordCounter.run()\n"
   ]
  },
  {
   "cell_type": "markdown",
   "metadata": {},
   "source": [
    "    \"words:\"\t21\n",
    "    \"lines:\"\t4\n",
    "    \"chars:\"\t88"
   ]
  },
  {
   "cell_type": "markdown",
   "metadata": {
    "ExecuteTime": {
     "end_time": "2017-08-23T14:01:10.834257Z",
     "start_time": "2017-08-23T14:01:10.826472Z"
    }
   },
   "source": [
    ">**Ex. 8.2.3**: Lets go a bit deeper. In this exercise you will implement a MapReduce-MapReduce operation, which computes the same thing as we computed above, but takes as input friend-network data in a slightly more common format: \n",
    "\n",
    ">        A B\n",
    ">        A C\n",
    ">        A D\n",
    ">        B C\n",
    ">        B D\n",
    ">        B E\n",
    ">        C D\n",
    ">        C E\n",
    ">        D E\n",
    "\n",
    ">Each line is a \"friend-link\". The links are undirected and each only occurs once.\n",
    "\n",
    ">Your job now, is to produce the same output as you did in Ex. 8.2.2, using this input data. To get started faster, use the template below, which shows how to chain together multiple MapReduce steps. Fill out the template and show the output that you get from the terminal when you run it. Clarify whether it corresponds with the output from Ex. 8.2.2.\n",
    "\n",
    ">*Hint: Try to write the first MapReduce step such that it outputs key-value pairs that correspond to the input data format from Ex. 8.2.2. Then you can reuse your solution to Ex. 8.2.2 in your second MapReduce step.*"
   ]
  },
  {
   "cell_type": "code",
   "execution_count": 4,
   "metadata": {},
   "outputs": [],
   "source": [
    "from mrjob.job import MRJob\n",
    "from mrjob.step import MRStep\n",
    "\n",
    "class NumberOfTriangles(MRJob):\n",
    "\n",
    "    def mapper1(self, _, line):\n",
    "        person, friends = line.split()\n",
    "        yield person, friends\n",
    "        yield friends, person\n",
    "\n",
    "    def reducer1(self, key, values):\n",
    "        yield key, list(values)\n",
    "\n",
    "\n",
    "    def mapper2(self, key, values):\n",
    "        for friend in values:\n",
    "            first = key\n",
    "            second = friend\n",
    "            if first > second:\n",
    "                temp = first\n",
    "                first = second\n",
    "                second = temp\n",
    "            yield (first, second), values\n",
    "\n",
    "    def reducer2(self, key, values):\n",
    "        vals = list(values)\n",
    "        first, second = vals[0], vals[1]\n",
    "        result = []\n",
    "        if len(first) < len(second):\n",
    "            for friend in first:\n",
    "                if friend in second:\n",
    "                    result.append(friend)\n",
    "        else:\n",
    "            for friend in second:\n",
    "                if friend in first:\n",
    "                    result.append(friend)\n",
    "        yield key, result\n",
    "            \n",
    "\n",
    "\n",
    "    def steps(self):\n",
    "        return [\n",
    "            MRStep(\n",
    "                mapper=self.mapper1,\n",
    "                reducer=self.reducer1\n",
    "            ),\n",
    "            MRStep(\n",
    "                mapper=self.mapper2,\n",
    "                reducer=self.reducer2\n",
    "            )\n",
    "        ]\n",
    "\n",
    "#if __name__ == '__main__':\n",
    "#    NumberOfTriangles.run()\n"
   ]
  },
  {
   "cell_type": "markdown",
   "metadata": {},
   "source": [
    "    [\"B\", \"D\"]\t[\"A\", \"C\", \"E\"]\n",
    "    [\"B\", \"E\"]\t[\"C\", \"D\"]\n",
    "    [\"C\", \"D\"]\t[\"A\", \"B\", \"E\"]\n",
    "    [\"C\", \"E\"]\t[\"B\", \"D\"]\n",
    "    [\"D\", \"E\"]\t[\"B\", \"C\"]\n",
    "    [\"A\", \"D\"]\t[\"B\", \"C\"]\n",
    "    [\"B\", \"C\"]\t[\"A\", \"D\", \"E\"]\n",
    "    [\"A\", \"B\"]\t[\"C\", \"D\"]\n",
    "    [\"A\", \"C\"]\t[\"B\", \"D\"]"
   ]
  },
  {
   "cell_type": "markdown",
   "metadata": {},
   "source": [
    "#### This output corresponds directly to that of 8.2.2"
   ]
  },
  {
   "cell_type": "markdown",
   "metadata": {
    "ExecuteTime": {
     "end_time": "2017-08-23T14:01:10.834257Z",
     "start_time": "2017-08-23T14:01:10.826472Z"
    }
   },
   "source": [
    ">**Ex. 8.2.4**: We can go even further! Let's add a third MapReduce step to count the number of triangles in a network. Again use this input data:\n",
    "\n",
    ">        A B\n",
    ">        A C\n",
    ">        A D\n",
    ">        B C\n",
    ">        B D\n",
    ">        B E\n",
    ">        C D\n",
    ">        C E\n",
    ">        D E\n",
    "\n",
    ">to validate that your implementation works. It should produce 7 triangles.\n",
    "\n",
    ">1. Now compute the number of triangles in [this file](http://snap.stanford.edu/data/facebook_combined.txt.gz) which contains 88234 links in an anonymized facebook network. Don't print the whole output, just report the number you get.\n",
    ">2. Do the same instead using all 2766607 road segments in California as your input. Go to [this site](https://www.cise.ufl.edu/research/sparse/matrices/SNAP/roadNet-CA.html) and download the data in Matrix Market format (`.mtx`). Unzip the file and remove the first 50 lines from it, since that is just markup that we don't need. The file is pretty big so you can expect it to take some time (~4 minutes on my computer). Report the number you get.\n",
    "\n",
    ">*Hint: Counting triangles is equivalent to counting \"common friends\". One way to do that is to just count the collective number of common friends that exist in a network. Depending on your implementation you might want to correct your result by a factor 3, since it is likely that you end up counting each triangle three times (one for each point in it).*\n",
    "\n",
    ">*Nerdy sidenote: Why would anyone want to count triangles??? Well, in network science there is a lot of statistical measures that include the count of triangles in a network. For example, the [clustering coefficient](https://en.wikipedia.org/wiki/Clustering_coefficient), which reveals the proportion of small closed loops in a network, is computed as the number of realized triangles divided by the number of possible triangles.*"
   ]
  },
  {
   "cell_type": "code",
   "execution_count": 5,
   "metadata": {},
   "outputs": [],
   "source": [
    "from mrjob.job import MRJob\n",
    "from mrjob.step import MRStep\n",
    "\n",
    "class NumberOfTriangles(MRJob):\n",
    "\n",
    "    def mapper1(self, _, line):\n",
    "        person, friends = line.split()\n",
    "        yield person, friends\n",
    "        yield friends, person\n",
    "\n",
    "    def reducer1(self, key, values):\n",
    "        yield key, list(values)\n",
    "\n",
    "\n",
    "    def mapper2(self, key, values):\n",
    "        for friend in values:\n",
    "            first = key\n",
    "            second = friend\n",
    "            if first > second:\n",
    "                temp = first\n",
    "                first = second\n",
    "                second = temp\n",
    "            yield (first, second), values\n",
    "\n",
    "    def reducer2(self, key, values):\n",
    "        vals = list(values)\n",
    "        first, second = vals[0], vals[1]\n",
    "        result = []\n",
    "        if len(first) < len(second):\n",
    "            for friend in first:\n",
    "                if friend in second:\n",
    "                    result.append(friend)\n",
    "        else:\n",
    "            for friend in second:\n",
    "                if friend in first:\n",
    "                    result.append(friend)\n",
    "        yield key, result\n",
    "\n",
    "\n",
    "    def mapper3(self, key, values):\n",
    "        yield \"total\", len(values)\n",
    "\n",
    "    def reducer3(self, key, values):\n",
    "        yield key, int(sum(values)/3)\n",
    "        \n",
    "    \n",
    "    def steps(self):\n",
    "        return [\n",
    "            MRStep(\n",
    "                mapper=self.mapper1,\n",
    "                reducer=self.reducer1\n",
    "            ),\n",
    "            MRStep(\n",
    "                mapper=self.mapper2,\n",
    "                reducer=self.reducer2\n",
    "            ),\n",
    "            MRStep(\n",
    "                mapper=self.mapper3,\n",
    "                reducer=self.reducer3\n",
    "            )\n",
    "        ]\n",
    "\n",
    "#if __name__ == '__main__':\n",
    "#    NumberOfTriangles.run()\n",
    "        \n",
    "        "
   ]
  },
  {
   "cell_type": "markdown",
   "metadata": {},
   "source": [
    "### Ans 8.2.4.1   \n",
    "    \"total\"\t1612010"
   ]
  },
  {
   "cell_type": "markdown",
   "metadata": {},
   "source": [
    "### Ans 8.2.4.2\n",
    "    \"total\"\t120676"
   ]
  }
 ],
 "metadata": {
  "kernelspec": {
   "display_name": "Python 3",
   "language": "python",
   "name": "python3"
  },
  "language_info": {
   "codemirror_mode": {
    "name": "ipython",
    "version": 3
   },
   "file_extension": ".py",
   "mimetype": "text/x-python",
   "name": "python",
   "nbconvert_exporter": "python",
   "pygments_lexer": "ipython3",
   "version": "3.7.3"
  },
  "toc": {
   "base_numbering": 1,
   "nav_menu": {},
   "number_sections": true,
   "sideBar": true,
   "skip_h1_title": false,
   "title_cell": "Table of Contents",
   "title_sidebar": "Contents",
   "toc_cell": false,
   "toc_position": {},
   "toc_section_display": true,
   "toc_window_display": false
  },
  "varInspector": {
   "cols": {
    "lenName": 16,
    "lenType": 16,
    "lenVar": 40
   },
   "kernels_config": {
    "python": {
     "delete_cmd_postfix": "",
     "delete_cmd_prefix": "del ",
     "library": "var_list.py",
     "varRefreshCmd": "print(var_dic_list())"
    },
    "r": {
     "delete_cmd_postfix": ") ",
     "delete_cmd_prefix": "rm(",
     "library": "var_list.r",
     "varRefreshCmd": "cat(var_dic_list()) "
    }
   },
   "types_to_exclude": [
    "module",
    "function",
    "builtin_function_or_method",
    "instance",
    "_Feature"
   ],
   "window_display": false
  }
 },
 "nbformat": 4,
 "nbformat_minor": 2
}
